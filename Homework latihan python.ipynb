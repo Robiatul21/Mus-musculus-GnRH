{
 "cells": [
  {
   "cell_type": "code",
   "execution_count": 1,
   "id": "f6e7261a-a35b-458c-b3be-594d45e76b17",
   "metadata": {},
   "outputs": [],
   "source": [
    "import Bio"
   ]
  },
  {
   "cell_type": "code",
   "execution_count": 2,
   "id": "d440fbec-71af-4ca5-93b8-9d24a4e8b7f5",
   "metadata": {},
   "outputs": [
    {
     "name": "stdout",
     "output_type": "stream",
     "text": [
      "b'<?xml version=\"1.0\" encoding=\"UTF-8\" ?>\\n<!DOCTYPE eInfoResult PUBLIC \"-//NLM//DTD einfo 20190110//EN\" \"https://eutils.ncbi.nlm.nih.gov/eutils/dtd/20190110/einfo.dtd\">\\n<eInfoResult>\\n<DbList>\\n\\n\\t<DbName>pubmed</DbName>\\n\\t<DbName>protein</DbName>\\n\\t<DbName>nuccore</DbName>\\n\\t<DbName>ipg</DbName>\\n\\t<DbName>nucleotide</DbName>\\n\\t<DbName>structure</DbName>\\n\\t<DbName>genome</DbName>\\n\\t<DbName>annotinfo</DbName>\\n\\t<DbName>assembly</DbName>\\n\\t<DbName>bioproject</DbName>\\n\\t<DbName>biosample</DbName>\\n\\t<DbName>blastdbinfo</DbName>\\n\\t<DbName>books</DbName>\\n\\t<DbName>cdd</DbName>\\n\\t<DbName>clinvar</DbName>\\n\\t<DbName>gap</DbName>\\n\\t<DbName>gapplus</DbName>\\n\\t<DbName>grasp</DbName>\\n\\t<DbName>dbvar</DbName>\\n\\t<DbName>gene</DbName>\\n\\t<DbName>gds</DbName>\\n\\t<DbName>geoprofiles</DbName>\\n\\t<DbName>homologene</DbName>\\n\\t<DbName>medgen</DbName>\\n\\t<DbName>mesh</DbName>\\n\\t<DbName>ncbisearch</DbName>\\n\\t<DbName>nlmcatalog</DbName>\\n\\t<DbName>omim</DbName>\\n\\t<DbName>orgtrack</DbName>\\n\\t<DbName>pmc</DbName>\\n\\t<DbName>popset</DbName>\\n\\t<DbName>proteinclusters</DbName>\\n\\t<DbName>pcassay</DbName>\\n\\t<DbName>protfam</DbName>\\n\\t<DbName>biosystems</DbName>\\n\\t<DbName>pccompound</DbName>\\n\\t<DbName>pcsubstance</DbName>\\n\\t<DbName>seqannot</DbName>\\n\\t<DbName>snp</DbName>\\n\\t<DbName>sra</DbName>\\n\\t<DbName>taxonomy</DbName>\\n\\t<DbName>biocollections</DbName>\\n\\t<DbName>gtr</DbName>\\n</DbList>\\n\\n</eInfoResult>\\n'\n"
     ]
    }
   ],
   "source": [
    "from Bio import Entrez\n",
    "Entrez.email = \"robiatul21@student.ub.ac.id\" \n",
    "\n",
    "#creating handle\n",
    "handle = Entrez.einfo() #invoking Bio.Entrez.einfo()\n",
    "print(handle.read())\n",
    "handle.close() \n"
   ]
  },
  {
   "cell_type": "code",
   "execution_count": 3,
   "id": "753e26c6-7633-46a4-9085-ee49707aa3d4",
   "metadata": {},
   "outputs": [
    {
     "name": "stdout",
     "output_type": "stream",
     "text": [
      "{'Count': '1925', 'RetMax': '20', 'RetStart': '0', 'IdList': ['893571073', '2207037603', '2206729520', '2206729518', '2206380939', '893557656', '893543473', '60499028', '158517801', '2203596608', '2203534943', '2203473731', '2203452305', '2203431041', '2203429200', '2200892509', '2194842046', '2194839694', '2193364164', '2192858579'], 'TranslationSet': [], 'TranslationStack': [{'Term': 'gonadotropin releasing hormone receptor[All Fields]', 'Field': 'All Fields', 'Count': '1925', 'Explode': 'N'}, 'GROUP'], 'QueryTranslation': 'gonadotropin releasing hormone receptor[All Fields]'}\n"
     ]
    }
   ],
   "source": [
    "handle = Entrez.esearch(db=\"nucleotide\", term=\"gonadotropin releasing hormone receptor\")\n",
    "record = Entrez.read(handle)\n",
    "print(record)\n",
    "handle.close() "
   ]
  },
  {
   "cell_type": "code",
   "execution_count": 4,
   "id": "e606396a-14c0-4877-b2ca-e5220c71ef0a",
   "metadata": {},
   "outputs": [
    {
     "name": "stdout",
     "output_type": "stream",
     "text": [
      ">NM_001310653.1 Mus musculus gonadotropin releasing hormone receptor (Gnrhr), transcript variant 3, mRNA\n",
      "AGCGCTTCGCGTTCAGTTATGATAAAACATCAGAAGTAACAGGGACTCCACTCTTGAAGCCTGTCCTTGG\n",
      "AGAAATATGGCTAACAATGCATCTCTTGAGCAGGACCCAAATCACTGCTCGGCCATCAACAACAGCATCC\n",
      "CCTTGATACAGGGCAAGCTCCCGACTCTAACCGTATCTGGAAAGATCCGAGTGACCGTGACTTTCTTCCT\n",
      "TTTCCTACTCTCTACTGCCTTCAATGCTTCCTTCTTGTTGAAGCTGCAGAAGTGGACTCAGAAGAGGAAG\n",
      "AAAGGAAAAAAGCTCTCAAGGATGAAGGTGCTTTTAAAGCATTTGACCTTAGCCAACCTGCTGGAGACTC\n",
      "TGATCGTCATGCCACTGGATGGGATGTGGAATATTACTGTTCAGTGGTATGCTGGGGAGTTCCTCTGCAA\n",
      "AGTTCTCAGCTATCTGAAGCTCTTCTCTATGTATGCCCCAGCTTTCATGATGGTGGTGATTAGCCTGGAC\n",
      "CGCTCCCTGGCCATCACTCAGCCCCTTGCTGTACAAAGCAACAGCAAGCTTGAACAGTCTATGATCAGCC\n",
      "TGGCCTGGATTCTCAGCATTGTCTTTGCAGGACCACAGTTATATATCTTCAGGATGATCTACCTAGCAGA\n",
      "CGGCTCTGGGCCCACAGTCTTCTCGCAATGTGTGACCCACTGCAGCTTTCCACAGTGGTGGCATCAGGCC\n",
      "TTCTACAACTTTTTCACCTTCGGCTGCCTCTTCATCATCCCCCTCCTCATCATGCTAATCTGCAATGCCA\n",
      "AAATCATCTTTGCTCTCACGCGAGTCCTTCATCAAGACCCACGCAGTACGGTATTCCTTAGATCTAAGAA\n",
      "TCACTGTAGACAAACGGAATTTAAACAGTAACACTTACACAGAGTGGTCGTGCTTTATAGACGGTGGCAA\n",
      "ACAGCTCACAAAGGTTAGGTCATTTGATAACTCACAATCACCCCCTTGAAATAATATTTTTACTATATAC\n",
      "TATAGATGAGATCCTTTACTGACACCTCATGGTCTCATTTTTCACCGTGGAATAAAGGTCACATAAGATC\n",
      "TCAAAAGTCCCCACACGTCCTTGAAGATTTATGCACAGTTAAGAGTTGGGGGTACGGGGAGACGTTTTCG\n",
      "ACAGTGGTGTAGCCACTTCATAAGGTGCCACTGCTCCTACAAGCAACTGTACCGACTGGTTTTGTGTCAA\n",
      "CTCGACACAAGCTAGAGTCATCAGAGAGAAAGAAGCCTTGGTGGAGGAAATCCTTCCATGAGATCCAGCT\n",
      "GTAAGGCATTTTTTCAACTAGTGATCAATGGGGGAGGGGCCAGCCCATTGTGGTGGCGCCACCCCTGGGC\n",
      "TGGGGGCCCTGGGTTCTGTAAGAAAGCAGACTAAGCAAACTACAGGAAGCAGGCCAGTAAGCAGCACCCC\n",
      "TCCATGGCCAGAAGCATCGGCTCCTGCCTCCAGGTTCCTGTACTACTTGAGTTCCTAACCTGGCTTCCCT\n",
      "TTGGTAAAGAGCAGTGATGTAGAAATATAAGCTGAATAAATCCTTTCTTCTTCAACTT\n",
      "\n",
      "\n"
     ]
    }
   ],
   "source": [
    "efetch_handle = Entrez.efetch(db=\"nucleotide\", id=\"893571073\", rettype=\"fasta\", retmode=\"text\")\n",
    "fastarecord = efetch_handle.read()\n",
    "print(fastarecord)\n"
   ]
  },
  {
   "cell_type": "code",
   "execution_count": 5,
   "id": "36a59b2e-ba77-473b-8c99-a1bf8f07b3b6",
   "metadata": {},
   "outputs": [
    {
     "name": "stdout",
     "output_type": "stream",
     "text": [
      "LOCUS       NM_001310653            1528 bp    mRNA    linear   ROD 12-MAR-2022\n",
      "DEFINITION  Mus musculus gonadotropin releasing hormone receptor (Gnrhr),\n",
      "            transcript variant 3, mRNA.\n",
      "ACCESSION   NM_001310653\n",
      "VERSION     NM_001310653.1\n",
      "KEYWORDS    RefSeq.\n",
      "SOURCE      Mus musculus (house mouse)\n",
      "  ORGANISM  Mus musculus\n",
      "            Eukaryota; Metazoa; Chordata; Craniata; Vertebrata; Euteleostomi;\n",
      "            Mammalia; Eutheria; Euarchontoglires; Glires; Rodentia; Myomorpha;\n",
      "            Muroidea; Muridae; Murinae; Mus; Mus.\n",
      "REFERENCE   1  (bases 1 to 1528)\n",
      "  AUTHORS   Brule E, Wang Y, Li Y, Lin YF, Zhou X, Ongaro L, Alonso CAI, Buddle\n",
      "            ERS, Schneyer AL, Byeon CH, Hinck CS, Mendelev N, Russell JP, Cowan\n",
      "            M, Boehm U, Ruf-Zamojski F, Zamojski M, Andoniadou CL, Sealfon SC,\n",
      "            Harrison CA, Walton KL, Hinck AP and Bernard DJ.\n",
      "  TITLE     TGFBR3L is an inhibin B co-receptor that regulates female fertility\n",
      "  JOURNAL   Sci Adv 7 (51), eabl4391 (2021)\n",
      "   PUBMED   34910520\n",
      "REFERENCE   2  (bases 1 to 1528)\n",
      "  AUTHORS   Pnueli L, Shalev D, Refael T, David C, Boehm U and Melamed P.\n",
      "  TITLE     Proliferating primary pituitary cells as a model for studying\n",
      "            regulation of gonadotrope chromatin and gene expression\n",
      "  JOURNAL   Mol Cell Endocrinol 533, 111349 (2021)\n",
      "   PUBMED   34090968\n",
      "REFERENCE   3  (bases 1 to 1528)\n",
      "  AUTHORS   Ryan GE, Bohaczuk SC, Cassin J, Witham EA, Shojaei S, Ho EV,\n",
      "            Thackray VG and Mellon PL.\n",
      "  TITLE     Androgen receptor positively regulates gonadotropin-releasing\n",
      "            hormone receptor in pituitary gonadotropes\n",
      "  JOURNAL   Mol Cell Endocrinol 530, 111286 (2021)\n",
      "   PUBMED   33872733\n",
      "  REMARK    GeneRIF: Androgen receptor positively regulates\n",
      "            gonadotropin-releasing hormone receptor in pituitary gonadotropes.\n",
      "REFERENCE   4  (bases 1 to 1528)\n",
      "  AUTHORS   Ongaro L, Alonso CAI, Zhou X, Brule E, Li Y, Schang G, Parlow AF,\n",
      "            Steyn F and Bernard DJ.\n",
      "  TITLE     Development of a Highly Sensitive ELISA for Measurement of FSH in\n",
      "            Serum, Plasma, and Whole Blood in Mice\n",
      "  JOURNAL   Endocrinology 162 (4) (2021)\n",
      "   PUBMED   33475143\n",
      "REFERENCE   5  (bases 1 to 1528)\n",
      "  AUTHORS   Schang G, Ongaro L, Schultz H, Wang Y, Zhou X, Brule E, Boehm U,\n",
      "            Lee SJ and Bernard DJ.\n",
      "  TITLE     Murine FSH Production Depends on the Activin Type II Receptors\n",
      "            ACVR2A and ACVR2B\n",
      "  JOURNAL   Endocrinology 161 (7) (2020)\n",
      "   PUBMED   32270195\n",
      "REFERENCE   6  (bases 1 to 1528)\n",
      "  AUTHORS   Arora KK, Sakai A and Catt KJ.\n",
      "  TITLE     Effects of second intracellular loop mutations on signal\n",
      "            transduction and internalization of the gonadotropin-releasing\n",
      "            hormone receptor\n",
      "  JOURNAL   J Biol Chem 270 (39), 22820-22826 (1995)\n",
      "   PUBMED   7559413\n",
      "REFERENCE   7  (bases 1 to 1528)\n",
      "  AUTHORS   Montgomery GW, Penty JM, Lord EA, Brooks J and McNeilly AS.\n",
      "  TITLE     The gonadotrophin-releasing hormone receptor maps to sheep\n",
      "            chromosome 6 outside of the region of the FecB locus\n",
      "  JOURNAL   Mamm Genome 6 (6), 436-438 (1995)\n",
      "   PUBMED   7647469\n",
      "REFERENCE   8  (bases 1 to 1528)\n",
      "  AUTHORS   Kaiser UB, Zhao D, Cardona GR and Chin WW.\n",
      "  TITLE     Isolation and characterization of cDNAs encoding the rat pituitary\n",
      "            gonadotropin-releasing hormone receptor\n",
      "  JOURNAL   Biochem Biophys Res Commun 189 (3), 1645-1652 (1992)\n",
      "   PUBMED   1339279\n",
      "REFERENCE   9  (bases 1 to 1528)\n",
      "  AUTHORS   Reinhart J, Mertz LM and Catt KJ.\n",
      "  TITLE     Molecular cloning and expression of cDNA encoding the murine\n",
      "            gonadotropin-releasing hormone receptor\n",
      "  JOURNAL   J Biol Chem 267 (30), 21281-21284 (1992)\n",
      "   PUBMED   1328228\n",
      "REFERENCE   10 (bases 1 to 1528)\n",
      "  AUTHORS   Tsutsumi M, Zhou W, Millar RP, Mellon PL, Roberts JL, Flanagan CA,\n",
      "            Dong K, Gillo B and Sealfon SC.\n",
      "  TITLE     Cloning and functional expression of a mouse gonadotropin-releasing\n",
      "            hormone receptor\n",
      "  JOURNAL   Mol Endocrinol 6 (7), 1163-1169 (1992)\n",
      "   PUBMED   1324422\n",
      "COMMENT     VALIDATED REFSEQ: This record has undergone validation or\n",
      "            preliminary review. The reference sequence was derived from\n",
      "            AC107634.8.\n",
      "            \n",
      "            Transcript Variant: This variant (3) lacks the 3' exon and its\n",
      "            transcription extends past a splice site used in variant 1,\n",
      "            resulting in a distinct 3' coding region and 3' UTR. The encoded\n",
      "            isoform (3) has a distinct, shorter C-terminus compared to isoform\n",
      "            1.\n",
      "            \n",
      "            Sequence Note: The RefSeq transcript and protein were derived from\n",
      "            genomic sequence to make the sequence consistent with the reference\n",
      "            genome assembly. The genomic coordinates used for the transcript\n",
      "            record were based on alignments.\n",
      "            \n",
      "            Publication Note:  This RefSeq record includes a subset of the\n",
      "            publications that are available for this gene. Please see the Gene\n",
      "            record to access additional publications.\n",
      "            \n",
      "            ##Evidence-Data-START##\n",
      "            Transcript exon combination :: L28757.1, BC061250.1 [ECO:0000332]\n",
      "            RNAseq introns              :: single sample supports all introns\n",
      "                                           SAMN00849374 [ECO:0000348]\n",
      "            ##Evidence-Data-END##\n",
      "            COMPLETENESS: complete on the 3' end.\n",
      "PRIMARY     REFSEQ_SPAN         PRIMARY_IDENTIFIER PRIMARY_SPAN        COMP\n",
      "            1-598               AC107634.8         195332-195929       c\n",
      "            599-1528            AC107634.8         182586-183515       c\n",
      "FEATURES             Location/Qualifiers\n",
      "     source          1..1528\n",
      "                     /organism=\"Mus musculus\"\n",
      "                     /mol_type=\"mRNA\"\n",
      "                     /strain=\"C57BL/6\"\n",
      "                     /db_xref=\"taxon:10090\"\n",
      "                     /chromosome=\"5\"\n",
      "                     /map=\"5 43.56 cM\"\n",
      "     gene            1..1528\n",
      "                     /gene=\"Gnrhr\"\n",
      "                     /note=\"gonadotropin releasing hormone receptor\"\n",
      "                     /db_xref=\"GeneID:14715\"\n",
      "                     /db_xref=\"MGI:MGI:95790\"\n",
      "     exon            1..598\n",
      "                     /gene=\"Gnrhr\"\n",
      "                     /inference=\"alignment:Splign:2.1.0\"\n",
      "     misc_feature    23..25\n",
      "                     /gene=\"Gnrhr\"\n",
      "                     /note=\"upstream in-frame stop codon\"\n",
      "     CDS             77..871\n",
      "                     /gene=\"Gnrhr\"\n",
      "                     /note=\"isoform 3 is encoded by transcript variant 3; gnRH\n",
      "                     receptor\"\n",
      "                     /codon_start=1\n",
      "                     /product=\"gonadotropin-releasing hormone receptor isoform\n",
      "                     3\"\n",
      "                     /protein_id=\"NP_001297582.1\"\n",
      "                     /db_xref=\"CCDS:CCDS84897.1\"\n",
      "                     /db_xref=\"GeneID:14715\"\n",
      "                     /db_xref=\"MGI:MGI:95790\"\n",
      "                     /translation=\"MANNASLEQDPNHCSAINNSIPLIQGKLPTLTVSGKIRVTVTFF\n",
      "                     LFLLSTAFNASFLLKLQKWTQKRKKGKKLSRMKVLLKHLTLANLLETLIVMPLDGMWN\n",
      "                     ITVQWYAGEFLCKVLSYLKLFSMYAPAFMMVVISLDRSLAITQPLAVQSNSKLEQSMI\n",
      "                     SLAWILSIVFAGPQLYIFRMIYLADGSGPTVFSQCVTHCSFPQWWHQAFYNFFTFGCL\n",
      "                     FIIPLLIMLICNAKIIFALTRVLHQDPRSTVFLRSKNHCRQTEFKQ\"\n",
      "     exon            599..1528\n",
      "                     /gene=\"Gnrhr\"\n",
      "                     /inference=\"alignment:Splign:2.1.0\"\n",
      "ORIGIN      \n",
      "        1 agcgcttcgc gttcagttat gataaaacat cagaagtaac agggactcca ctcttgaagc\n",
      "       61 ctgtccttgg agaaatatgg ctaacaatgc atctcttgag caggacccaa atcactgctc\n",
      "      121 ggccatcaac aacagcatcc ccttgataca gggcaagctc ccgactctaa ccgtatctgg\n",
      "      181 aaagatccga gtgaccgtga ctttcttcct tttcctactc tctactgcct tcaatgcttc\n",
      "      241 cttcttgttg aagctgcaga agtggactca gaagaggaag aaaggaaaaa agctctcaag\n",
      "      301 gatgaaggtg cttttaaagc atttgacctt agccaacctg ctggagactc tgatcgtcat\n",
      "      361 gccactggat gggatgtgga atattactgt tcagtggtat gctggggagt tcctctgcaa\n",
      "      421 agttctcagc tatctgaagc tcttctctat gtatgcccca gctttcatga tggtggtgat\n",
      "      481 tagcctggac cgctccctgg ccatcactca gccccttgct gtacaaagca acagcaagct\n",
      "      541 tgaacagtct atgatcagcc tggcctggat tctcagcatt gtctttgcag gaccacagtt\n",
      "      601 atatatcttc aggatgatct acctagcaga cggctctggg cccacagtct tctcgcaatg\n",
      "      661 tgtgacccac tgcagctttc cacagtggtg gcatcaggcc ttctacaact ttttcacctt\n",
      "      721 cggctgcctc ttcatcatcc ccctcctcat catgctaatc tgcaatgcca aaatcatctt\n",
      "      781 tgctctcacg cgagtccttc atcaagaccc acgcagtacg gtattcctta gatctaagaa\n",
      "      841 tcactgtaga caaacggaat ttaaacagta acacttacac agagtggtcg tgctttatag\n",
      "      901 acggtggcaa acagctcaca aaggttaggt catttgataa ctcacaatca cccccttgaa\n",
      "      961 ataatatttt tactatatac tatagatgag atcctttact gacacctcat ggtctcattt\n",
      "     1021 ttcaccgtgg aataaaggtc acataagatc tcaaaagtcc ccacacgtcc ttgaagattt\n",
      "     1081 atgcacagtt aagagttggg ggtacgggga gacgttttcg acagtggtgt agccacttca\n",
      "     1141 taaggtgcca ctgctcctac aagcaactgt accgactggt tttgtgtcaa ctcgacacaa\n",
      "     1201 gctagagtca tcagagagaa agaagccttg gtggaggaaa tccttccatg agatccagct\n",
      "     1261 gtaaggcatt ttttcaacta gtgatcaatg ggggaggggc cagcccattg tggtggcgcc\n",
      "     1321 acccctgggc tgggggccct gggttctgta agaaagcaga ctaagcaaac tacaggaagc\n",
      "     1381 aggccagtaa gcagcacccc tccatggcca gaagcatcgg ctcctgcctc caggttcctg\n",
      "     1441 tactacttga gttcctaacc tggcttccct ttggtaaaga gcagtgatgt agaaatataa\n",
      "     1501 gctgaataaa tcctttcttc ttcaactt\n",
      "//\n",
      "\n",
      "\n"
     ]
    }
   ],
   "source": [
    "efetch_handle = Entrez.efetch(db=\"nucleotide\", id=\"893571073\", rettype=\"gb\", retmode=\"text\")\n",
    "gbrecord = efetch_handle.read()\n",
    "print(gbrecord)"
   ]
  },
  {
   "cell_type": "code",
   "execution_count": 6,
   "id": "07705429-6a17-4efc-af48-44848fca2b8c",
   "metadata": {},
   "outputs": [
    {
     "name": "stdout",
     "output_type": "stream",
     "text": [
      ">NM_001310653.1 Mus musculus gonadotropin releasing hormone receptor (Gnrhr), transcript variant 3, mRNA\n",
      "AGCGCTTCGCGTTCAGTTATGATAAAACATCAGAAGTAACAGGGACTCCACTCTTGAAGCCTGTCCTTGG\n",
      "AGAAATATGGCTAACAATGCATCTCTTGAGCAGGACCCAAATCACTGCTCGGCCATCAACAACAGCATCC\n",
      "CCTTGATACAGGGCAAGCTCCCGACTCTAACCGTATCTGGAAAGATCCGAGTGACCGTGACTTTCTTCCT\n",
      "TTTCCTACTCTCTACTGCCTTCAATGCTTCCTTCTTGTTGAAGCTGCAGAAGTGGACTCAGAAGAGGAAG\n",
      "AAAGGAAAAAAGCTCTCAAGGATGAAGGTGCTTTTAAAGCATTTGACCTTAGCCAACCTGCTGGAGACTC\n",
      "TGATCGTCATGCCACTGGATGGGATGTGGAATATTACTGTTCAGTGGTATGCTGGGGAGTTCCTCTGCAA\n",
      "AGTTCTCAGCTATCTGAAGCTCTTCTCTATGTATGCCCCAGCTTTCATGATGGTGGTGATTAGCCTGGAC\n",
      "CGCTCCCTGGCCATCACTCAGCCCCTTGCTGTACAAAGCAACAGCAAGCTTGAACAGTCTATGATCAGCC\n",
      "TGGCCTGGATTCTCAGCATTGTCTTTGCAGGACCACAGTTATATATCTTCAGGATGATCTACCTAGCAGA\n",
      "CGGCTCTGGGCCCACAGTCTTCTCGCAATGTGTGACCCACTGCAGCTTTCCACAGTGGTGGCATCAGGCC\n",
      "TTCTACAACTTTTTCACCTTCGGCTGCCTCTTCATCATCCCCCTCCTCATCATGCTAATCTGCAATGCCA\n",
      "AAATCATCTTTGCTCTCACGCGAGTCCTTCATCAAGACCCACGCAGTACGGTATTCCTTAGATCTAAGAA\n",
      "TCACTGTAGACAAACGGAATTTAAACAGTAACACTTACACAGAGTGGTCGTGCTTTATAGACGGTGGCAA\n",
      "ACAGCTCACAAAGGTTAGGTCATTTGATAACTCACAATCACCCCCTTGAAATAATATTTTTACTATATAC\n",
      "TATAGATGAGATCCTTTACTGACACCTCATGGTCTCATTTTTCACCGTGGAATAAAGGTCACATAAGATC\n",
      "TCAAAAGTCCCCACACGTCCTTGAAGATTTATGCACAGTTAAGAGTTGGGGGTACGGGGAGACGTTTTCG\n",
      "ACAGTGGTGTAGCCACTTCATAAGGTGCCACTGCTCCTACAAGCAACTGTACCGACTGGTTTTGTGTCAA\n",
      "CTCGACACAAGCTAGAGTCATCAGAGAGAAAGAAGCCTTGGTGGAGGAAATCCTTCCATGAGATCCAGCT\n",
      "GTAAGGCATTTTTTCAACTAGTGATCAATGGGGGAGGGGCCAGCCCATTGTGGTGGCGCCACCCCTGGGC\n",
      "TGGGGGCCCTGGGTTCTGTAAGAAAGCAGACTAAGCAAACTACAGGAAGCAGGCCAGTAAGCAGCACCCC\n",
      "TCCATGGCCAGAAGCATCGGCTCCTGCCTCCAGGTTCCTGTACTACTTGAGTTCCTAACCTGGCTTCCCT\n",
      "TTGGTAAAGAGCAGTGATGTAGAAATATAAGCTGAATAAATCCTTTCTTCTTCAACTT\n",
      "\n",
      "\n"
     ]
    }
   ],
   "source": [
    "efetch_handle = Entrez.efetch(db=\"nucleotide\", id=\"893571073\", rettype=\"fasta\", retmode=\"text\")\n",
    "fastarecord = efetch_handle.read()\n",
    "print(fastarecord)"
   ]
  },
  {
   "cell_type": "code",
   "execution_count": 15,
   "id": "c84deaa0-9b11-47fa-b130-673deac2a2ee",
   "metadata": {},
   "outputs": [],
   "source": [
    "import os\n",
    "\n",
    "filename = \"gnrh musmusculus.fasta\"\n",
    "\n",
    "if not os.path.isfile(filename):\n",
    "    efetch_handle = Entrez.efetch(db=\"nucleotide\", id=\"893571073\", rettype=\"fasta\", retmode=\"text\")\n",
    "    output_file_handle = open(filename, \"w\")\n",
    "    output_file_handle.write(efetch_handle.read())\n",
    "    output_file_handle.close()\n",
    "    efetch_handle.close()"
   ]
  },
  {
   "cell_type": "code",
   "execution_count": 16,
   "id": "8d1ba543-3826-4c3b-a14d-ac7ef6143b22",
   "metadata": {},
   "outputs": [
    {
     "name": "stdout",
     "output_type": "stream",
     "text": [
      "GB Downloaded\n"
     ]
    }
   ],
   "source": [
    "filename = \"Mus musculus complete.gb\"\n",
    "\n",
    "if not os.path.isfile(filename):\n",
    "    efetch_handle = Entrez.efetch(db=\"nucleotide\", id=\"893571073\", rettype=\"gb\", retmode=\"text\")\n",
    "    output_file_handle = open(filename, \"w\")\n",
    "    output_file_handle.write(efetch_handle.read())\n",
    "    output_file_handle.close()\n",
    "    efetch_handle.close()\n",
    "    print(\"GB Downloaded\")"
   ]
  },
  {
   "cell_type": "code",
   "execution_count": 27,
   "id": "df8e00b3-cc48-4b82-ad26-c1ead60ed5f5",
   "metadata": {},
   "outputs": [
    {
     "ename": "NameError",
     "evalue": "name 'gene_seq' is not defined",
     "output_type": "error",
     "traceback": [
      "\u001b[1;31m-----------------------------------------------------------------\u001b[0m",
      "\u001b[1;31mNameError\u001b[0m                       Traceback (most recent call last)",
      "Input \u001b[1;32mIn [27]\u001b[0m, in \u001b[0;36m<cell line: 15>\u001b[1;34m()\u001b[0m\n\u001b[0;32m     12\u001b[0m             \u001b[38;5;28;01mcontinue\u001b[39;00m\n\u001b[0;32m     13\u001b[0m         gene_seq \u001b[38;5;241m=\u001b[39m gene\u001b[38;5;241m.\u001b[39mextract(genome\u001b[38;5;241m.\u001b[39mseq)\n\u001b[1;32m---> 15\u001b[0m GoI_fasta \u001b[38;5;241m=\u001b[39m \u001b[38;5;124m\"\u001b[39m\u001b[38;5;124m>\u001b[39m\u001b[38;5;132;01m%s\u001b[39;00m\u001b[38;5;124m|\u001b[39m\u001b[38;5;132;01m%s\u001b[39;00m\u001b[38;5;130;01m\\n\u001b[39;00m\u001b[38;5;132;01m%s\u001b[39;00m\u001b[38;5;124m\"\u001b[39m \u001b[38;5;241m%\u001b[39m (GoI, genome\u001b[38;5;241m.\u001b[39mdescription, \u001b[43mgene_seq\u001b[49m)\n\u001b[0;32m     16\u001b[0m \u001b[38;5;28mprint\u001b[39m(GoI_fasta)\n",
      "\u001b[1;31mNameError\u001b[0m: name 'gene_seq' is not defined"
     ]
    }
   ],
   "source": [
    "from Bio import SeqIO\n",
    "\n",
    "GoI = \"origin\"\n",
    "\n",
    "for genome in SeqIO.parse(\"Mus musculus complete.gb\",\"genbank\"):\n",
    "    for gene in genome.features:\n",
    "        if gene.type != \"CDS\":\n",
    "            continue\n",
    "        if \"gene\" not in gene.qualifiers:\n",
    "            continue\n",
    "        if GoI not in gene.qualifiers[\"gene\"][0]: \n",
    "            continue\n",
    "        gene_seq = gene.extract(genome.seq)\n",
    "\n",
    "GoI_fasta = \">%s|%s\\n%s\" % (GoI, genome.description, gene_seq)\n",
    "print(GoI_fasta)\n"
   ]
  },
  {
   "cell_type": "code",
   "execution_count": 28,
   "id": "d034d6ef-a7b5-48e4-b634-ffdf21c61eac",
   "metadata": {},
   "outputs": [
    {
     "name": "stdout",
     "output_type": "stream",
     "text": [
      ">NM_001310653.1 Mus musculus gonadotropin releasing hormone receptor (Gnrhr), transcript variant 3, mRNA\n",
      "AGCGCTTCGCGTTCAGTTATGATAAAACATCAGAAGTAACAGGGACTCCACTCTTGAAGCCTGTCCTTGG\n",
      "AGAAATATGGCTAACAATGCATCTCTTGAGCAGGACCCAAATCACTGCTCGGCCATCAACAACAGCATCC\n",
      "CCTTGATACAGGGCAAGCTCCCGACTCTAACCGTATCTGGAAAGATCCGAGTGACCGTGACTTTCTTCCT\n",
      "TTTCCTACTCTCTACTGCCTTCAATGCTTCCTTCTTGTTGAAGCTGCAGAAGTGGACTCAGAAGAGGAAG\n",
      "AAAGGAAAAAAGCTCTCAAGGATGAAGGTGCTTTTAAAGCATTTGACCTTAGCCAACCTGCTGGAGACTC\n",
      "TGATCGTCATGCCACTGGATGGGATGTGGAATATTACTGTTCAGTGGTATGCTGGGGAGTTCCTCTGCAA\n",
      "AGTTCTCAGCTATCTGAAGCTCTTCTCTATGTATGCCCCAGCTTTCATGATGGTGGTGATTAGCCTGGAC\n",
      "CGCTCCCTGGCCATCACTCAGCCCCTTGCTGTACAAAGCAACAGCAAGCTTGAACAGTCTATGATCAGCC\n",
      "TGGCCTGGATTCTCAGCATTGTCTTTGCAGGACCACAGTTATATATCTTCAGGATGATCTACCTAGCAGA\n",
      "CGGCTCTGGGCCCACAGTCTTCTCGCAATGTGTGACCCACTGCAGCTTTCCACAGTGGTGGCATCAGGCC\n",
      "TTCTACAACTTTTTCACCTTCGGCTGCCTCTTCATCATCCCCCTCCTCATCATGCTAATCTGCAATGCCA\n",
      "AAATCATCTTTGCTCTCACGCGAGTCCTTCATCAAGACCCACGCAGTACGGTATTCCTTAGATCTAAGAA\n",
      "TCACTGTAGACAAACGGAATTTAAACAGTAACACTTACACAGAGTGGTCGTGCTTTATAGACGGTGGCAA\n",
      "ACAGCTCACAAAGGTTAGGTCATTTGATAACTCACAATCACCCCCTTGAAATAATATTTTTACTATATAC\n",
      "TATAGATGAGATCCTTTACTGACACCTCATGGTCTCATTTTTCACCGTGGAATAAAGGTCACATAAGATC\n",
      "TCAAAAGTCCCCACACGTCCTTGAAGATTTATGCACAGTTAAGAGTTGGGGGTACGGGGAGACGTTTTCG\n",
      "ACAGTGGTGTAGCCACTTCATAAGGTGCCACTGCTCCTACAAGCAACTGTACCGACTGGTTTTGTGTCAA\n",
      "CTCGACACAAGCTAGAGTCATCAGAGAGAAAGAAGCCTTGGTGGAGGAAATCCTTCCATGAGATCCAGCT\n",
      "GTAAGGCATTTTTTCAACTAGTGATCAATGGGGGAGGGGCCAGCCCATTGTGGTGGCGCCACCCCTGGGC\n",
      "TGGGGGCCCTGGGTTCTGTAAGAAAGCAGACTAAGCAAACTACAGGAAGCAGGCCAGTAAGCAGCACCCC\n",
      "TCCATGGCCAGAAGCATCGGCTCCTGCCTCCAGGTTCCTGTACTACTTGAGTTCCTAACCTGGCTTCCCT\n",
      "TTGGTAAAGAGCAGTGATGTAGAAATATAAGCTGAATAAATCCTTTCTTCTTCAACTT\n",
      "\n",
      "\n"
     ]
    }
   ],
   "source": [
    "efetch_handle = Entrez.efetch(db=\"nucleotide\", id=\"893571073\", rettype=\"fasta\", retmode=\"text\")\n",
    "fastarecord = efetch_handle.read()\n",
    "print(fastarecord)"
   ]
  },
  {
   "cell_type": "code",
   "execution_count": null,
   "id": "fe57ad9c-10e1-43aa-9a18-2dbaf405e8ed",
   "metadata": {},
   "outputs": [],
   "source": []
  }
 ],
 "metadata": {
  "kernelspec": {
   "display_name": "Python 3 (ipykernel)",
   "language": "python",
   "name": "python3"
  },
  "language_info": {
   "codemirror_mode": {
    "name": "ipython",
    "version": 3
   },
   "file_extension": ".py",
   "mimetype": "text/x-python",
   "name": "python",
   "nbconvert_exporter": "python",
   "pygments_lexer": "ipython3",
   "version": "3.9.7"
  }
 },
 "nbformat": 4,
 "nbformat_minor": 5
}
